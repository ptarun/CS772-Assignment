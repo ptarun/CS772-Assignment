{
 "cells": [
  {
   "cell_type": "markdown",
   "id": "83e3824b",
   "metadata": {},
   "source": [
    "# Data downloading and processing"
   ]
  },
  {
   "cell_type": "code",
   "execution_count": 4,
   "id": "d000ee3e",
   "metadata": {},
   "outputs": [
    {
     "name": "stderr",
     "output_type": "stream",
     "text": [
      "Reusing dataset squad_v2 (/Users/arunbabupt/.cache/huggingface/datasets/squad_v2/squad_v2/2.0.0/09187c73c1b837c95d9a249cd97c2c3f1cebada06efe667b4427714b27639b1d)\n"
     ]
    },
    {
     "data": {
      "application/vnd.jupyter.widget-view+json": {
       "model_id": "19cd8130687142298b5850b0386bf8d4",
       "version_major": 2,
       "version_minor": 0
      },
      "text/plain": [
       "  0%|          | 0/2 [00:00<?, ?it/s]"
      ]
     },
     "metadata": {},
     "output_type": "display_data"
    }
   ],
   "source": [
    "#!pip3 install datasets\n",
    "from datasets import load_dataset\n",
    "data = load_dataset(\"squad_v2\")"
   ]
  },
  {
   "cell_type": "code",
   "execution_count": 5,
   "id": "7a8f7e81",
   "metadata": {},
   "outputs": [
    {
     "data": {
      "text/plain": [
       "DatasetDict({\n",
       "    train: Dataset({\n",
       "        features: ['id', 'title', 'context', 'question', 'answers'],\n",
       "        num_rows: 130319\n",
       "    })\n",
       "    validation: Dataset({\n",
       "        features: ['id', 'title', 'context', 'question', 'answers'],\n",
       "        num_rows: 11873\n",
       "    })\n",
       "})"
      ]
     },
     "execution_count": 5,
     "metadata": {},
     "output_type": "execute_result"
    }
   ],
   "source": [
    "data"
   ]
  },
  {
   "cell_type": "code",
   "execution_count": 6,
   "id": "cf7b0456",
   "metadata": {},
   "outputs": [
    {
     "data": {
      "text/plain": [
       "{'id': '56be8e353aeaaa14008c90c9',\n",
       " 'title': 'Beyoncé',\n",
       " 'context': 'The remaining band members recorded \"Independent Women Part I\", which appeared on the soundtrack to the 2000 film, Charlie\\'s Angels. It became their best-charting single, topping the U.S. Billboard Hot 100 chart for eleven consecutive weeks. In early 2001, while Destiny\\'s Child was completing their third album, Beyoncé landed a major role in the MTV made-for-television film, Carmen: A Hip Hopera, starring alongside American actor Mekhi Phifer. Set in Philadelphia, the film is a modern interpretation of the 19th century opera Carmen by French composer Georges Bizet. When the third album Survivor was released in May 2001, Luckett and Roberson filed a lawsuit claiming that the songs were aimed at them. The album debuted at number one on the U.S. Billboard 200, with first-week sales of 663,000 copies sold. The album spawned other number-one hits, \"Bootylicious\" and the title track, \"Survivor\", the latter of which earned the group a Grammy Award for Best R&B Performance by a Duo or Group with Vocals. After releasing their holiday album 8 Days of Christmas in October 2001, the group announced a hiatus to further pursue solo careers.',\n",
       " 'question': 'Their third album, Survivor, sold how many during its first week?',\n",
       " 'answers': {'text': ['663,000 copies'], 'answer_start': [793]}}"
      ]
     },
     "execution_count": 6,
     "metadata": {},
     "output_type": "execute_result"
    }
   ],
   "source": [
    "data['train'][102]"
   ]
  },
  {
   "cell_type": "code",
   "execution_count": 6,
   "id": "6a16c728",
   "metadata": {},
   "outputs": [
    {
     "name": "stdout",
     "output_type": "stream",
     "text": [
      "Processing train data...\n"
     ]
    },
    {
     "name": "stderr",
     "output_type": "stream",
     "text": [
      "100%|██████████████████████████████████| 130319/130319 [12:26<00:00, 174.65it/s]\n"
     ]
    },
    {
     "name": "stdout",
     "output_type": "stream",
     "text": [
      "Processing test data...\n"
     ]
    },
    {
     "name": "stderr",
     "output_type": "stream",
     "text": [
      "100%|████████████████████████████████████| 11873/11873 [00:14<00:00, 818.13it/s]\n"
     ]
    }
   ],
   "source": [
    "#creating test and train dataframe from raw_data\n",
    "#df columns = ['context', 'question', 'answer', 'answer_start']\n",
    "\n",
    "from tqdm import tqdm\n",
    "import pandas as pd\n",
    "\n",
    "def get_train_and_test_data_frame(data):\n",
    "    feature_list = ['context', 'question', 'answer', 'answer_start']\n",
    "    df_train = pd.DataFrame(columns =feature_list)\n",
    "    df_test = pd.DataFrame(columns =feature_list)\n",
    "    \n",
    "    print('Processing train data...')\n",
    "    for item in tqdm(data['train']):\n",
    "        d = []\n",
    "        d.extend([item['context'], item['question']])\n",
    "        try: #remove questions with zero answers\n",
    "            d.extend([ item['answers']['text'][0], item['answers']['answer_start'][0]]) \n",
    "        except:\n",
    "            continue\n",
    "        df_length = len(df_train)\n",
    "        df_train.loc[df_length] = d\n",
    "    \n",
    "    print('Processing test data...')\n",
    "    for item in tqdm(data['validation']):\n",
    "        d = []\n",
    "        d.extend([item['context'], item['question']])\n",
    "        try: #remove questions with zero answers\n",
    "            d.extend([ item['answers']['text'][0], item['answers']['answer_start'][0]]) \n",
    "        except:\n",
    "            continue\n",
    "        df_length = len(df_test)\n",
    "        df_test.loc[df_length] = d\n",
    "        #print(item['answers']['answer_start'][0])\n",
    "\n",
    "    return df_train, df_test\n",
    "\n",
    "\n",
    "df_train, df_test = get_train_and_test_data_frame(data)"
   ]
  },
  {
   "cell_type": "code",
   "execution_count": 1,
   "id": "c17ac54e",
   "metadata": {},
   "outputs": [
    {
     "ename": "NameError",
     "evalue": "name 'df_train' is not defined",
     "output_type": "error",
     "traceback": [
      "\u001b[0;31m---------------------------------------------------------------------------\u001b[0m",
      "\u001b[0;31mNameError\u001b[0m                                 Traceback (most recent call last)",
      "\u001b[0;32m/var/folders/fq/fprdqqg93d3cp30hvc240yqr0000gn/T/ipykernel_37718/2760610523.py\u001b[0m in \u001b[0;36m<module>\u001b[0;34m\u001b[0m\n\u001b[1;32m      1\u001b[0m \u001b[0;31m# save to a pickle file for reuse (optional (1/2))\u001b[0m\u001b[0;34m\u001b[0m\u001b[0;34m\u001b[0m\u001b[0m\n\u001b[0;32m----> 2\u001b[0;31m \u001b[0mdf_train\u001b[0m\u001b[0;34m.\u001b[0m\u001b[0mto_pickle\u001b[0m\u001b[0;34m(\u001b[0m\u001b[0;34m'data/raw_data/train.pkl'\u001b[0m\u001b[0;34m)\u001b[0m\u001b[0;34m\u001b[0m\u001b[0;34m\u001b[0m\u001b[0m\n\u001b[0m\u001b[1;32m      3\u001b[0m \u001b[0mdf_test\u001b[0m\u001b[0;34m.\u001b[0m\u001b[0mto_pickle\u001b[0m\u001b[0;34m(\u001b[0m\u001b[0;34m'data/raw_data/test.pkl'\u001b[0m\u001b[0;34m)\u001b[0m\u001b[0;34m\u001b[0m\u001b[0;34m\u001b[0m\u001b[0m\n",
      "\u001b[0;31mNameError\u001b[0m: name 'df_train' is not defined"
     ]
    }
   ],
   "source": [
    "# save to a pickle file for reuse (optional (1/2))\n",
    "df_train.to_pickle('data/raw_data/train.pkl')\n",
    "df_test.to_pickle('data/raw_data/test.pkl')"
   ]
  },
  {
   "cell_type": "code",
   "execution_count": 2,
   "id": "a7b62b35",
   "metadata": {},
   "outputs": [],
   "source": [
    "# load saved file (optional (2/2))\n",
    "import pandas as pd\n",
    "\n",
    "feature_list = ['context', 'question', 'answer', 'answer_start']\n",
    "\n",
    "df_train = pd.DataFrame(columns =feature_list)\n",
    "df_test = pd.DataFrame(columns =feature_list)\n",
    "\n",
    "df_train = pd.read_pickle('data/raw_data/train.pkl')\n",
    "df_test = pd.read_pickle('data/raw_data/test.pkl')"
   ]
  },
  {
   "cell_type": "code",
   "execution_count": 3,
   "id": "0c6e72c3",
   "metadata": {},
   "outputs": [
    {
     "data": {
      "text/html": [
       "<div>\n",
       "<style scoped>\n",
       "    .dataframe tbody tr th:only-of-type {\n",
       "        vertical-align: middle;\n",
       "    }\n",
       "\n",
       "    .dataframe tbody tr th {\n",
       "        vertical-align: top;\n",
       "    }\n",
       "\n",
       "    .dataframe thead th {\n",
       "        text-align: right;\n",
       "    }\n",
       "</style>\n",
       "<table border=\"1\" class=\"dataframe\">\n",
       "  <thead>\n",
       "    <tr style=\"text-align: right;\">\n",
       "      <th></th>\n",
       "      <th>context</th>\n",
       "      <th>question</th>\n",
       "      <th>answer</th>\n",
       "      <th>answer_start</th>\n",
       "    </tr>\n",
       "  </thead>\n",
       "  <tbody>\n",
       "    <tr>\n",
       "      <th>0</th>\n",
       "      <td>Beyoncé Giselle Knowles-Carter (/biːˈjɒnseɪ/ b...</td>\n",
       "      <td>When did Beyonce start becoming popular?</td>\n",
       "      <td>in the late 1990s</td>\n",
       "      <td>269</td>\n",
       "    </tr>\n",
       "    <tr>\n",
       "      <th>1</th>\n",
       "      <td>Beyoncé Giselle Knowles-Carter (/biːˈjɒnseɪ/ b...</td>\n",
       "      <td>What areas did Beyonce compete in when she was...</td>\n",
       "      <td>singing and dancing</td>\n",
       "      <td>207</td>\n",
       "    </tr>\n",
       "    <tr>\n",
       "      <th>2</th>\n",
       "      <td>Beyoncé Giselle Knowles-Carter (/biːˈjɒnseɪ/ b...</td>\n",
       "      <td>When did Beyonce leave Destiny's Child and bec...</td>\n",
       "      <td>2003</td>\n",
       "      <td>526</td>\n",
       "    </tr>\n",
       "    <tr>\n",
       "      <th>3</th>\n",
       "      <td>Beyoncé Giselle Knowles-Carter (/biːˈjɒnseɪ/ b...</td>\n",
       "      <td>In what city and state did Beyonce  grow up?</td>\n",
       "      <td>Houston, Texas</td>\n",
       "      <td>166</td>\n",
       "    </tr>\n",
       "    <tr>\n",
       "      <th>4</th>\n",
       "      <td>Beyoncé Giselle Knowles-Carter (/biːˈjɒnseɪ/ b...</td>\n",
       "      <td>In which decade did Beyonce become famous?</td>\n",
       "      <td>late 1990s</td>\n",
       "      <td>276</td>\n",
       "    </tr>\n",
       "    <tr>\n",
       "      <th>...</th>\n",
       "      <td>...</td>\n",
       "      <td>...</td>\n",
       "      <td>...</td>\n",
       "      <td>...</td>\n",
       "    </tr>\n",
       "    <tr>\n",
       "      <th>86816</th>\n",
       "      <td>Kathmandu Metropolitan City (KMC), in order to...</td>\n",
       "      <td>In what US state did Kathmandu first establish...</td>\n",
       "      <td>Oregon</td>\n",
       "      <td>229</td>\n",
       "    </tr>\n",
       "    <tr>\n",
       "      <th>86817</th>\n",
       "      <td>Kathmandu Metropolitan City (KMC), in order to...</td>\n",
       "      <td>What was Yangon previously known as?</td>\n",
       "      <td>Rangoon</td>\n",
       "      <td>414</td>\n",
       "    </tr>\n",
       "    <tr>\n",
       "      <th>86818</th>\n",
       "      <td>Kathmandu Metropolitan City (KMC), in order to...</td>\n",
       "      <td>With what Belorussian city does Kathmandu have...</td>\n",
       "      <td>Minsk</td>\n",
       "      <td>476</td>\n",
       "    </tr>\n",
       "    <tr>\n",
       "      <th>86819</th>\n",
       "      <td>Kathmandu Metropolitan City (KMC), in order to...</td>\n",
       "      <td>In what year did Kathmandu create its initial ...</td>\n",
       "      <td>1975</td>\n",
       "      <td>199</td>\n",
       "    </tr>\n",
       "    <tr>\n",
       "      <th>86820</th>\n",
       "      <td>Kathmandu Metropolitan City (KMC), in order to...</td>\n",
       "      <td>What is KMC an initialism of?</td>\n",
       "      <td>Kathmandu Metropolitan City</td>\n",
       "      <td>0</td>\n",
       "    </tr>\n",
       "  </tbody>\n",
       "</table>\n",
       "<p>86821 rows × 4 columns</p>\n",
       "</div>"
      ],
      "text/plain": [
       "                                                 context  \\\n",
       "0      Beyoncé Giselle Knowles-Carter (/biːˈjɒnseɪ/ b...   \n",
       "1      Beyoncé Giselle Knowles-Carter (/biːˈjɒnseɪ/ b...   \n",
       "2      Beyoncé Giselle Knowles-Carter (/biːˈjɒnseɪ/ b...   \n",
       "3      Beyoncé Giselle Knowles-Carter (/biːˈjɒnseɪ/ b...   \n",
       "4      Beyoncé Giselle Knowles-Carter (/biːˈjɒnseɪ/ b...   \n",
       "...                                                  ...   \n",
       "86816  Kathmandu Metropolitan City (KMC), in order to...   \n",
       "86817  Kathmandu Metropolitan City (KMC), in order to...   \n",
       "86818  Kathmandu Metropolitan City (KMC), in order to...   \n",
       "86819  Kathmandu Metropolitan City (KMC), in order to...   \n",
       "86820  Kathmandu Metropolitan City (KMC), in order to...   \n",
       "\n",
       "                                                question  \\\n",
       "0               When did Beyonce start becoming popular?   \n",
       "1      What areas did Beyonce compete in when she was...   \n",
       "2      When did Beyonce leave Destiny's Child and bec...   \n",
       "3          In what city and state did Beyonce  grow up?    \n",
       "4             In which decade did Beyonce become famous?   \n",
       "...                                                  ...   \n",
       "86816  In what US state did Kathmandu first establish...   \n",
       "86817               What was Yangon previously known as?   \n",
       "86818  With what Belorussian city does Kathmandu have...   \n",
       "86819  In what year did Kathmandu create its initial ...   \n",
       "86820                      What is KMC an initialism of?   \n",
       "\n",
       "                            answer answer_start  \n",
       "0                in the late 1990s          269  \n",
       "1              singing and dancing          207  \n",
       "2                             2003          526  \n",
       "3                   Houston, Texas          166  \n",
       "4                       late 1990s          276  \n",
       "...                            ...          ...  \n",
       "86816                       Oregon          229  \n",
       "86817                      Rangoon          414  \n",
       "86818                        Minsk          476  \n",
       "86819                         1975          199  \n",
       "86820  Kathmandu Metropolitan City            0  \n",
       "\n",
       "[86821 rows x 4 columns]"
      ]
     },
     "execution_count": 3,
     "metadata": {},
     "output_type": "execute_result"
    }
   ],
   "source": [
    "df_train"
   ]
  },
  {
   "cell_type": "markdown",
   "id": "b8bd1f67",
   "metadata": {},
   "source": [
    "# pre processing"
   ]
  },
  {
   "cell_type": "code",
   "execution_count": 7,
   "id": "f51de252",
   "metadata": {},
   "outputs": [],
   "source": [
    "factoid = ['who', 'what', 'when', 'where']"
   ]
  },
  {
   "cell_type": "code",
   "execution_count": 48,
   "id": "5bf6a608",
   "metadata": {},
   "outputs": [
    {
     "data": {
      "text/html": [
       "<div>\n",
       "<style scoped>\n",
       "    .dataframe tbody tr th:only-of-type {\n",
       "        vertical-align: middle;\n",
       "    }\n",
       "\n",
       "    .dataframe tbody tr th {\n",
       "        vertical-align: top;\n",
       "    }\n",
       "\n",
       "    .dataframe thead th {\n",
       "        text-align: right;\n",
       "    }\n",
       "</style>\n",
       "<table border=\"1\" class=\"dataframe\">\n",
       "  <thead>\n",
       "    <tr style=\"text-align: right;\">\n",
       "      <th></th>\n",
       "      <th>context</th>\n",
       "      <th>question</th>\n",
       "      <th>answer</th>\n",
       "      <th>answer_start</th>\n",
       "    </tr>\n",
       "  </thead>\n",
       "  <tbody>\n",
       "    <tr>\n",
       "      <th>0</th>\n",
       "      <td>Beyoncé Giselle Knowles-Carter (/biːˈjɒnseɪ/ b...</td>\n",
       "      <td>When did Beyonce start becoming popular?</td>\n",
       "      <td>in the late 1990s</td>\n",
       "      <td>269</td>\n",
       "    </tr>\n",
       "    <tr>\n",
       "      <th>1</th>\n",
       "      <td>Beyoncé Giselle Knowles-Carter (/biːˈjɒnseɪ/ b...</td>\n",
       "      <td>What areas did Beyonce compete in when she was...</td>\n",
       "      <td>singing and dancing</td>\n",
       "      <td>207</td>\n",
       "    </tr>\n",
       "    <tr>\n",
       "      <th>2</th>\n",
       "      <td>Beyoncé Giselle Knowles-Carter (/biːˈjɒnseɪ/ b...</td>\n",
       "      <td>When did Beyonce leave Destiny's Child and bec...</td>\n",
       "      <td>2003</td>\n",
       "      <td>526</td>\n",
       "    </tr>\n",
       "    <tr>\n",
       "      <th>3</th>\n",
       "      <td>Beyoncé Giselle Knowles-Carter (/biːˈjɒnseɪ/ b...</td>\n",
       "      <td>In what city and state did Beyonce  grow up?</td>\n",
       "      <td>Houston, Texas</td>\n",
       "      <td>166</td>\n",
       "    </tr>\n",
       "    <tr>\n",
       "      <th>4</th>\n",
       "      <td>Beyoncé Giselle Knowles-Carter (/biːˈjɒnseɪ/ b...</td>\n",
       "      <td>In which decade did Beyonce become famous?</td>\n",
       "      <td>late 1990s</td>\n",
       "      <td>276</td>\n",
       "    </tr>\n",
       "    <tr>\n",
       "      <th>...</th>\n",
       "      <td>...</td>\n",
       "      <td>...</td>\n",
       "      <td>...</td>\n",
       "      <td>...</td>\n",
       "    </tr>\n",
       "    <tr>\n",
       "      <th>77960</th>\n",
       "      <td>Kathmandu Metropolitan City (KMC), in order to...</td>\n",
       "      <td>In what US state did Kathmandu first establish...</td>\n",
       "      <td>Oregon</td>\n",
       "      <td>229</td>\n",
       "    </tr>\n",
       "    <tr>\n",
       "      <th>77961</th>\n",
       "      <td>Kathmandu Metropolitan City (KMC), in order to...</td>\n",
       "      <td>What was Yangon previously known as?</td>\n",
       "      <td>Rangoon</td>\n",
       "      <td>414</td>\n",
       "    </tr>\n",
       "    <tr>\n",
       "      <th>77962</th>\n",
       "      <td>Kathmandu Metropolitan City (KMC), in order to...</td>\n",
       "      <td>With what Belorussian city does Kathmandu have...</td>\n",
       "      <td>Minsk</td>\n",
       "      <td>476</td>\n",
       "    </tr>\n",
       "    <tr>\n",
       "      <th>77963</th>\n",
       "      <td>Kathmandu Metropolitan City (KMC), in order to...</td>\n",
       "      <td>In what year did Kathmandu create its initial ...</td>\n",
       "      <td>1975</td>\n",
       "      <td>199</td>\n",
       "    </tr>\n",
       "    <tr>\n",
       "      <th>77964</th>\n",
       "      <td>Kathmandu Metropolitan City (KMC), in order to...</td>\n",
       "      <td>What is KMC an initialism of?</td>\n",
       "      <td>Kathmandu Metropolitan City</td>\n",
       "      <td>0</td>\n",
       "    </tr>\n",
       "  </tbody>\n",
       "</table>\n",
       "<p>77965 rows × 4 columns</p>\n",
       "</div>"
      ],
      "text/plain": [
       "                                                 context  \\\n",
       "0      Beyoncé Giselle Knowles-Carter (/biːˈjɒnseɪ/ b...   \n",
       "1      Beyoncé Giselle Knowles-Carter (/biːˈjɒnseɪ/ b...   \n",
       "2      Beyoncé Giselle Knowles-Carter (/biːˈjɒnseɪ/ b...   \n",
       "3      Beyoncé Giselle Knowles-Carter (/biːˈjɒnseɪ/ b...   \n",
       "4      Beyoncé Giselle Knowles-Carter (/biːˈjɒnseɪ/ b...   \n",
       "...                                                  ...   \n",
       "77960  Kathmandu Metropolitan City (KMC), in order to...   \n",
       "77961  Kathmandu Metropolitan City (KMC), in order to...   \n",
       "77962  Kathmandu Metropolitan City (KMC), in order to...   \n",
       "77963  Kathmandu Metropolitan City (KMC), in order to...   \n",
       "77964  Kathmandu Metropolitan City (KMC), in order to...   \n",
       "\n",
       "                                                question  \\\n",
       "0               When did Beyonce start becoming popular?   \n",
       "1      What areas did Beyonce compete in when she was...   \n",
       "2      When did Beyonce leave Destiny's Child and bec...   \n",
       "3          In what city and state did Beyonce  grow up?    \n",
       "4             In which decade did Beyonce become famous?   \n",
       "...                                                  ...   \n",
       "77960  In what US state did Kathmandu first establish...   \n",
       "77961               What was Yangon previously known as?   \n",
       "77962  With what Belorussian city does Kathmandu have...   \n",
       "77963  In what year did Kathmandu create its initial ...   \n",
       "77964                      What is KMC an initialism of?   \n",
       "\n",
       "                            answer answer_start  \n",
       "0                in the late 1990s          269  \n",
       "1              singing and dancing          207  \n",
       "2                             2003          526  \n",
       "3                   Houston, Texas          166  \n",
       "4                       late 1990s          276  \n",
       "...                            ...          ...  \n",
       "77960                       Oregon          229  \n",
       "77961                      Rangoon          414  \n",
       "77962                        Minsk          476  \n",
       "77963                         1975          199  \n",
       "77964  Kathmandu Metropolitan City            0  \n",
       "\n",
       "[77965 rows x 4 columns]"
      ]
     },
     "execution_count": 48,
     "metadata": {},
     "output_type": "execute_result"
    }
   ],
   "source": [
    "df_new_train = df_train.loc[df_train['answer'].apply(lambda x: len(x.split()) <= 6)]\n",
    "df_new_train.reset_index(drop=True)"
   ]
  },
  {
   "cell_type": "code",
   "execution_count": null,
   "id": "b90a26ab",
   "metadata": {},
   "outputs": [],
   "source": [
    "def get_len_questions(df):\n",
    "        factoid = ['who', 'what', 'when', 'where']\n",
    "        len_q = {}\n",
    "        \n",
    "        for q_type in factoid:\n",
    "            q_list = df.loc[df['question'].apply(lambda x:  q_type in x.lower().split() )]\n",
    "            len_q[q_type] = [len(quest.split()) for quest in q_list['question']]\n",
    "        return(len_q)\n",
    "        \n",
    "        \n",
    "len_q = get_len_questions(df_new_train)"
   ]
  },
  {
   "cell_type": "code",
   "execution_count": 106,
   "id": "1fb143d7",
   "metadata": {},
   "outputs": [
    {
     "data": {
      "text/plain": [
       "42929"
      ]
     },
     "execution_count": 106,
     "metadata": {},
     "output_type": "execute_result"
    }
   ],
   "source": [
    "len(len_q['what'])"
   ]
  },
  {
   "cell_type": "code",
   "execution_count": null,
   "id": "c8d3b27f",
   "metadata": {},
   "outputs": [],
   "source": []
  },
  {
   "cell_type": "code",
   "execution_count": 115,
   "id": "ee891b9a",
   "metadata": {},
   "outputs": [
    {
     "data": {
      "text/plain": [
       "(0.0, 40.0)"
      ]
     },
     "execution_count": 115,
     "metadata": {},
     "output_type": "execute_result"
    },
    {
     "data": {
      "image/png": "[encoded data removed]",
      "text/plain": [
       "<Figure size 360x360 with 1 Axes>"
      ]
     },
     "metadata": {
      "needs_background": "light"
     },
     "output_type": "display_data"
    },
    {
     "data": {
      "image/png": "[encoded data removed]",
      "text/plain": [
       "<Figure size 360x360 with 1 Axes>"
      ]
     },
     "metadata": {
      "needs_background": "light"
     },
     "output_type": "display_data"
    },
    {
     "data": {
      "image/png": "[encoded data removed]",
      "text/plain": [
       "<Figure size 360x360 with 1 Axes>"
      ]
     },
     "metadata": {
      "needs_background": "light"
     },
     "output_type": "display_data"
    },
    {
     "data": {
      "image/png": "[encoded data removed]",
      "text/plain": [
       "<Figure size 360x360 with 1 Axes>"
      ]
     },
     "metadata": {
      "needs_background": "light"
     },
     "output_type": "display_data"
    }
   ],
   "source": [
    "# Import data\n",
    "import matplotlib.pyplot as plt\n",
    "%matplotlib inline\n",
    "import seaborn as sns\n",
    "\n",
    "\n",
    "# plot\n",
    "#fig, axes = plt.subplots(1, 3, figsize=(10, 3), sharey=True, dpi=100)\n",
    "sns.displot(len_q['who'] , color=\"dodgerblue\", bins=20)\n",
    "plt.xlabel('Len of question :who', fontsize=16)\n",
    "sns.displot(len_q['what'] , color=\"deeppink\", bins=20)\n",
    "plt.xlabel('Len of question :what', fontsize=16)\n",
    "sns.displot(len_q['when'] , color=\"gold\" ,bins=20)\n",
    "plt.xlabel('Len of question :when', fontsize=16)\n",
    "sns.displot(len_q['where'] , color=\"green\", bins=20)\n",
    "plt.xlabel('Len of question :where', fontsize=16)\n",
    "plt.xlim(0,40)\n"
   ]
  },
  {
   "cell_type": "code",
   "execution_count": null,
   "id": "8371bb86",
   "metadata": {},
   "outputs": [],
   "source": []
  },
  {
   "cell_type": "code",
   "execution_count": null,
   "id": "268d45aa",
   "metadata": {},
   "outputs": [],
   "source": []
  }
 ],
 "metadata": {
  "kernelspec": {
   "display_name": "Python 3 (ipykernel)",
   "language": "python",
   "name": "python3"
  },
  "language_info": {
   "codemirror_mode": {
    "name": "ipython",
    "version": 3
   },
   "file_extension": ".py",
   "mimetype": "text/x-python",
   "name": "python",
   "nbconvert_exporter": "python",
   "pygments_lexer": "ipython3",
   "version": "3.9.10"
  }
 },
 "nbformat": 4,
 "nbformat_minor": 5
}
